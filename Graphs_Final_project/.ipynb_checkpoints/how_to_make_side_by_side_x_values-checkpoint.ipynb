{
 "cells": [
  {
   "cell_type": "code",
   "execution_count": 1,
   "id": "33ef56ea",
   "metadata": {},
   "outputs": [
    {
     "name": "stdout",
     "output_type": "stream",
     "text": [
      "[0.8, 2.8, 4.8, 6.8, 8.8]\n",
      "[1.6, 3.6, 5.6, 7.6, 9.6]\n"
     ]
    }
   ],
   "source": [
    "unit_topics = ['Limits', 'Derivatives', 'Integrals', 'Diff Eq', 'Applications']\n",
    "middle_school_a = [80, 85, 84, 83, 86]\n",
    "middle_school_b = [73, 78, 77, 82, 86]\n",
    "\n",
    "def create_x(t, w, n, d):\n",
    "    return [t*x + w*n for x in range(d)]\n",
    "# Make your chart here\n",
    "school_a_x = create_x(2, 0.8, 1, 5)\n",
    "school_b_x = create_x(2, 0.8, 2, 5)\n",
    "print(school_a_x)\n",
    "print(school_b_x)"
   ]
  },
  {
   "cell_type": "code",
   "execution_count": 4,
   "id": "4c2bfe84",
   "metadata": {},
   "outputs": [
    {
     "data": {
      "text/plain": [
       "[(0.8, 1.6), (2.8, 3.6), (4.8, 5.6), (6.8, 7.6), (8.8, 9.6)]"
      ]
     },
     "execution_count": 4,
     "metadata": {},
     "output_type": "execute_result"
    }
   ],
   "source": [
    "list(zip(school_a_x, school_b_x))"
   ]
  },
  {
   "cell_type": "code",
   "execution_count": null,
   "id": "23461b58",
   "metadata": {},
   "outputs": [],
   "source": [
    "middle_x = [(a + b) / 2.0 for a, b in zip(school_a_x, school_b_x)]\n",
    "print(middle_x)"
   ]
  }
 ],
 "metadata": {
  "kernelspec": {
   "display_name": "Python 3 (ipykernel)",
   "language": "python",
   "name": "python3"
  },
  "language_info": {
   "codemirror_mode": {
    "name": "ipython",
    "version": 3
   },
   "file_extension": ".py",
   "mimetype": "text/x-python",
   "name": "python",
   "nbconvert_exporter": "python",
   "pygments_lexer": "ipython3",
   "version": "3.9.7"
  }
 },
 "nbformat": 4,
 "nbformat_minor": 5
}
